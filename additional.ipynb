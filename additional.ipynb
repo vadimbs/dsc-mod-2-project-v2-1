{
 "cells": [
  {
   "cell_type": "code",
   "execution_count": null,
   "metadata": {},
   "outputs": [],
   "source": [
    "with open('data.pickle', 'rb') as f:\n",
    "    # The protocol version used is detected automatically, so we do not\n",
    "    # have to specify it.\n",
    "    data_object2 = pickle.load(f)\n",
    "data_object2"
   ]
  },
  {
   "cell_type": "code",
   "execution_count": null,
   "metadata": {},
   "outputs": [],
   "source": [
    "#interactions\n",
    "from itertools import combinations\n",
    "\n",
    "crossvalidation = KFold(n_splits=10, shuffle=True, random_state=0)\n",
    "regression = LinearRegression()\n",
    "\n",
    "interactions = []\n",
    "\n",
    "feat_combinations = combinations(X.columns, 2)\n",
    "\n",
    "data = X.copy()\n",
    "for i, (a, b) in enumerate(feat_combinations):\n",
    "    data['interaction'] = data[a] * data[b]\n",
    "    score = np.mean(cross_val_score(regression, data, y, scoring='r2', cv=crossvalidation))\n",
    "    if score > baseline:\n",
    "        interactions.append((a, b, round(score,3)))\n",
    "    \n",
    "    if i % 50 == 0:\n",
    "        print(i)\n",
    "            \n",
    "print('Top 3 interactions: %s' %sorted(interactions, key=lambda inter: inter[2], reverse=True)[:3])"
   ]
  },
  {
   "cell_type": "code",
   "execution_count": null,
   "metadata": {},
   "outputs": [],
   "source": [
    "# 3000\n",
    "# Top 3 interactions: [('sqft_living', 'zipcode_98023', 0.808), ('sqft_living', 'zipcode_98042', 0.808), ('sqft_living', 'zipcode_98103', 0.808)]"
   ]
  },
  {
   "cell_type": "code",
   "execution_count": null,
   "metadata": {},
   "outputs": [],
   "source": [
    "regression = LinearRegression()\n",
    "crossvalidation = KFold(n_splits=10, shuffle=True, random_state=1)\n",
    "final = X.copy()\n",
    "\n",
    "df_ohe = pd.get_dummies(cropped_df[cat_cols], columns=cat_cols, drop_first=True)\n",
    "df_ohe.columns = df_ohe.columns.str.replace('.', '_')\n",
    "\n",
    "final['sqft_living*zipcode_98023'] = final['sqft_living'] * final['zipcode_98023']\n",
    "final['sqft_living*zipcode_98042'] = final['sqft_living'] * final['zipcode_98042']\n",
    "final['sqft_living*zipcode_98103'] = final['sqft_living'] * final['zipcode_98103']\n",
    "\n",
    "final_model_score = np.mean(cross_val_score(regression, final, y, scoring='r2', cv=crossvalidation))\n",
    "final_model_score"
   ]
  },
  {
   "cell_type": "code",
   "execution_count": null,
   "metadata": {},
   "outputs": [],
   "source": []
  },
  {
   "cell_type": "code",
   "execution_count": null,
   "metadata": {},
   "outputs": [],
   "source": [
    "fig, ax = plt.subplots(figsize = (16,10))\n",
    "ax.scatter(sqft_living_outliers_df.long, sqft_living_outliers_df.lat, zorder=1, alpha= 1, c=sqft_living_outliers_df.price, s=10)\n",
    "ax.set_xlim(BBox[0],BBox[1])\n",
    "ax.set_ylim(BBox[2],BBox[3])\n",
    "ax.set_title('Plotting Data on Map')\n",
    "ax.set_xlabel('Longitude')\n",
    "ax.set_ylabel('Latitude')\n",
    "ax.plot(-122.2,47.5983,c='r',markersize=5, marker='o') # Most expensive house\n",
    "ax.imshow(map_img, zorder=0, extent = BBox, aspect= 'equal');"
   ]
  },
  {
   "cell_type": "code",
   "execution_count": null,
   "metadata": {},
   "outputs": [],
   "source": [
    "#import chart_studio.plotly as py\n",
    "import plotly.offline as py\n",
    "import plotly.graph_objects as go\n",
    "\n",
    "mapbox_access_token = 'pk.eyJ1IjoidmFkaW1icyIsImEiOiJja240c3JqaTExaXh4Mm5vMmx3NDNwOHUwIn0.tHSRuXCZ3UQxUnwNQRyZCQ'\n",
    "\n",
    "#df = pd.read_csv('https://raw.githubusercontent.com/plotly/datasets/master/Nuclear%20Waste%20Sites%20on%20American%20Campuses.csv')\n",
    "site_lat = cropped_df.long\n",
    "site_lon = cropped_df.lat\n",
    "locations_name = cropped_df.price\n",
    "\n",
    "data = [\n",
    "    go.Scattermapbox(\n",
    "        lat=list(site_lat),\n",
    "        lon=list(site_lon),\n",
    "        mode='markers',\n",
    "        marker=dict(\n",
    "            size=17,\n",
    "            color='rgb(255, 0, 0)',\n",
    "            opacity=0.7\n",
    "        ),\n",
    "        text=locations_name,\n",
    "        hoverinfo='text'\n",
    "    ),\n",
    "    go.Scattermapbox(\n",
    "        lat=site_lat,\n",
    "        lon=site_lon,\n",
    "        mode='markers',\n",
    "        marker=dict(\n",
    "            size=8,\n",
    "            color='rgb(242, 177, 172)',\n",
    "            opacity=0.7\n",
    "        ),\n",
    "        hoverinfo='none'\n",
    "    )\n",
    "]\n",
    "\n",
    "\n",
    "layout = go.Layout(\n",
    "    title='Nuclear Waste Sites on Campus',\n",
    "    autosize=True,\n",
    "    hovermode='closest',\n",
    "    showlegend=False,\n",
    "    mapbox=dict(\n",
    "        accesstoken=mapbox_access_token,\n",
    "        bearing=0,\n",
    "        center=dict(\n",
    "            lat=47.6,\n",
    "            lon=-122\n",
    "        ),\n",
    "        pitch=0,\n",
    "        zoom=9,\n",
    "        style='light'\n",
    "    ),\n",
    ")\n",
    "\n",
    "fig = dict(data=data, layout=layout)\n",
    "\n",
    "#py.iplot(fig, filename='jupyter-Nuclear Waste Sites on American Campuses')\n",
    "py(fig)\n",
    "#fig.layout.update()\n",
    "#fig.show()\n",
    "#plot( fig, filename = 'candlestick-test-3.html', validate = False )"
   ]
  }
 ],
 "metadata": {
  "kernelspec": {
   "display_name": "Python 3",
   "language": "python",
   "name": "python3"
  },
  "language_info": {
   "codemirror_mode": {
    "name": "ipython",
    "version": 3
   },
   "file_extension": ".py",
   "mimetype": "text/x-python",
   "name": "python",
   "nbconvert_exporter": "python",
   "pygments_lexer": "ipython3",
   "version": "3.7.6"
  }
 },
 "nbformat": 4,
 "nbformat_minor": 4
}
